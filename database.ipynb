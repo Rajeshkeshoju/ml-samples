{
  "nbformat": 4,
  "nbformat_minor": 0,
  "metadata": {
    "colab": {
      "name": "database.ipynb",
      "provenance": [],
      "authorship_tag": "ABX9TyMQiV8OjmocL9txc1SMc7FS",
      "include_colab_link": true
    },
    "kernelspec": {
      "name": "python3",
      "display_name": "Python 3"
    },
    "language_info": {
      "name": "python"
    }
  },
  "cells": [
    {
      "cell_type": "markdown",
      "metadata": {
        "id": "view-in-github",
        "colab_type": "text"
      },
      "source": [
        "<a href=\"https://colab.research.google.com/github/Rajeshkeshoju/ml-samples/blob/main/database.ipynb\" target=\"_parent\"><img src=\"https://colab.research.google.com/assets/colab-badge.svg\" alt=\"Open In Colab\"/></a>"
      ]
    },
    {
      "cell_type": "code",
      "execution_count": null,
      "metadata": {
        "id": "n61aW32EnQiy"
      },
      "outputs": [],
      "source": [
        "import sqlite3"
      ]
    },
    {
      "cell_type": "code",
      "source": [
        "conn = sqlite3.connect(\"Employees.db\")\n",
        "cursor = conn.cursor()"
      ],
      "metadata": {
        "id": "Cn8L990mnnD4"
      },
      "execution_count": null,
      "outputs": []
    },
    {
      "cell_type": "code",
      "source": [
        "def executeQuery(query, message):\n",
        "  cursor.execute(query)\n",
        "  print(message)"
      ],
      "metadata": {
        "id": "p7wYHXKZnyvn"
      },
      "execution_count": null,
      "outputs": []
    },
    {
      "cell_type": "code",
      "source": [
        "# Table creation\n",
        "\n",
        "def createTable(tableName):\n",
        "  tableCreateQuery = \"\"\"CREATE TABLE \"\"\" + tableName + \"\"\"(id INTEGER, name VARCHAR(30), gender CHAR(1), jd DATE);\"\"\"\n",
        "  executeQuery(tableCreateQuery, \"Table created\")"
      ],
      "metadata": {
        "id": "-00ROK1woCam"
      },
      "execution_count": null,
      "outputs": []
    },
    {
      "cell_type": "code",
      "source": [
        "# Table records insertion\n",
        "\n",
        "def insertTableRecord(recordInsertionQuery):\n",
        "  print(recordInsertionQuery)\n",
        "  \n",
        "  executeQuery(recordInsertionQuery, \"Record inserted\")\n",
        "  conn.commit()"
      ],
      "metadata": {
        "id": "CJRjlO9aoqrV"
      },
      "execution_count": null,
      "outputs": []
    },
    {
      "cell_type": "code",
      "source": [
        "# Table records fetching\n",
        "  \n",
        "def fecthTableRecords(targetAttribute = \"'1'\", targetValue = \"1\"):\n",
        "  recordsSelectQuery = \"\"\"SELECT * FROM employees WHERE \"\"\" + str(targetAttribute) + \"\"\" = '\"\"\" + str(targetValue) + \"\"\"';\"\"\"\n",
        "  print(recordsSelectQuery)\n",
        "\n",
        "  executeQuery(recordsSelectQuery, \"Record(s) fetched\")\n",
        "\n",
        "  employeeRecords = cursor.fetchall()\n",
        "  for employee in employeeRecords:\n",
        "    print(employee)"
      ],
      "metadata": {
        "id": "lx_5tRATpXHk"
      },
      "execution_count": null,
      "outputs": []
    },
    {
      "cell_type": "code",
      "source": [
        "# Records deletion\n",
        "\n",
        "def deleteTableRecords(targetAttribute = \"'1'\", targetValue = \"1\"):\n",
        "  recordzdeletionQuery = \"\"\"DELETE FROM employees WHERE \"\"\" + str(targetAttribute) + \"\"\" = '\"\"\" + str(targetValue) + \"\"\"';\"\"\"\n",
        "  print(recordzdeletionQuery)\n",
        "\n",
        "  executeQuery(recordzdeletionQuery, \"Record(s) deleted\")\n",
        "  conn.commit()"
      ],
      "metadata": {
        "id": "eXx3DE19r1Ur"
      },
      "execution_count": null,
      "outputs": []
    },
    {
      "cell_type": "code",
      "source": [
        "createTable(\"employees\")"
      ],
      "metadata": {
        "colab": {
          "base_uri": "https://localhost:8080/"
        },
        "id": "A3fVNV5Btwd0",
        "outputId": "43a4b63c-5f86-4857-99dc-83a09faa9c2e"
      },
      "execution_count": null,
      "outputs": [
        {
          "output_type": "stream",
          "name": "stdout",
          "text": [
            "Table created\n"
          ]
        }
      ]
    },
    {
      "cell_type": "code",
      "source": [
        "recordInsertionQuery = \"\"\"INSERT INTO employees VALUES(1, \"John Carter\", \"M\", \"1999-11-10\");\"\"\"\n",
        "insertTableRecord(recordInsertionQuery)\n",
        "\n",
        "recordInsertionQuery = \"\"\"INSERT INTO employees VALUES(2, \"Daenerys Targaryen\", \"F\", \"1992-04-10\");\"\"\"\n",
        "insertTableRecord(recordInsertionQuery)\n",
        "\n",
        "recordInsertionQuery = \"\"\"INSERT INTO employees VALUES(3, \"Caroline Forbes\", \"F\", \"1999-03-28\");\"\"\"\n",
        "insertTableRecord(recordInsertionQuery)\n",
        "\n",
        "recordInsertionQuery = \"\"\"INSERT INTO employees VALUES(4, \"Walter White\", \"M\", \"1993-07-01\");\"\"\"\n",
        "insertTableRecord(recordInsertionQuery)\n",
        "\n",
        "recordInsertionQuery = \"\"\"INSERT INTO employees VALUES(5, \"Maeve Wiley\", \"F\", \"1997-01-23\");\"\"\"\n",
        "insertTableRecord(recordInsertionQuery)"
      ],
      "metadata": {
        "colab": {
          "base_uri": "https://localhost:8080/"
        },
        "id": "ZC8TgZGouFrC",
        "outputId": "1f67a487-85a0-41cb-a43f-573a69b32592"
      },
      "execution_count": null,
      "outputs": [
        {
          "output_type": "stream",
          "name": "stdout",
          "text": [
            "INSERT INTO employees VALUES(1, \"John Carter\", \"M\", \"1999-11-10\");\n",
            "Record inserted\n",
            "INSERT INTO employees VALUES(2, \"Daenerys Targaryen\", \"F\", \"1992-04-10\");\n",
            "Record inserted\n",
            "INSERT INTO employees VALUES(3, \"Caroline Forbes\", \"F\", \"1999-03-28\");\n",
            "Record inserted\n",
            "INSERT INTO employees VALUES(4, \"Walter White\", \"M\", \"1993-07-01\");\n",
            "Record inserted\n",
            "INSERT INTO employees VALUES(5, \"Maeve Wiley\", \"F\", \"1997-01-23\");\n",
            "Record inserted\n"
          ]
        }
      ]
    },
    {
      "cell_type": "code",
      "source": [
        "fecthTableRecords()"
      ],
      "metadata": {
        "colab": {
          "base_uri": "https://localhost:8080/"
        },
        "id": "6krJrxKnuWm6",
        "outputId": "6fc8e83d-d140-4738-fbce-a36011bb72ec"
      },
      "execution_count": null,
      "outputs": [
        {
          "output_type": "stream",
          "name": "stdout",
          "text": [
            "SELECT * FROM employees WHERE '1' = '1';\n",
            "Record(s) fetched\n",
            "(1, 'John Carter', 'M', '1999-11-10')\n",
            "(2, 'Daenerys Targaryen', 'F', '1992-04-10')\n",
            "(3, 'Caroline Forbes', 'F', '1999-03-28')\n",
            "(4, 'Walter White', 'M', '1993-07-01')\n",
            "(5, 'Maeve Wiley', 'F', '1997-01-23')\n"
          ]
        }
      ]
    },
    {
      "cell_type": "code",
      "source": [
        "deleteTableRecords()"
      ],
      "metadata": {
        "colab": {
          "base_uri": "https://localhost:8080/"
        },
        "id": "doI4eb98vsZt",
        "outputId": "6bc2e90e-7050-47ea-c9ea-370b56f71362"
      },
      "execution_count": null,
      "outputs": [
        {
          "output_type": "stream",
          "name": "stdout",
          "text": [
            "DELETE FROM employees WHERE '1' = '1';\n",
            "Record(s) deleted\n"
          ]
        }
      ]
    }
  ]
}