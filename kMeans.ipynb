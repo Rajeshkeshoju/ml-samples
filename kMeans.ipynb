{
  "cells": [
    {
      "cell_type": "markdown",
      "metadata": {
        "id": "view-in-github",
        "colab_type": "text"
      },
      "source": [
        "<a href=\"https://colab.research.google.com/github/Rajeshkeshoju/ml-samples/blob/main/kMeans.ipynb\" target=\"_parent\"><img src=\"https://colab.research.google.com/assets/colab-badge.svg\" alt=\"Open In Colab\"/></a>"
      ]
    },
    {
      "cell_type": "code",
      "execution_count": null,
      "id": "cca856f1",
      "metadata": {
        "id": "cca856f1"
      },
      "outputs": [],
      "source": [
        "from sklearn.datasets import load_iris\n",
        "from sklearn.model_selection import train_test_split\n",
        "\n",
        "import pandas as pd\n",
        "import matplotlib.pyplot as mtp"
      ]
    },
    {
      "cell_type": "code",
      "execution_count": 1,
      "id": "a517439e",
      "metadata": {
        "id": "a517439e",
        "colab": {
          "base_uri": "https://localhost:8080/",
          "height": 552
        },
        "outputId": "7eb3cbc4-c613-4f36-b2ca-caccd52d2035"
      },
      "outputs": [
        {
          "output_type": "error",
          "ename": "NameError",
          "evalue": "ignored",
          "traceback": [
            "\u001b[0;31m---------------------------------------------------------------------------\u001b[0m",
            "\u001b[0;31mNameError\u001b[0m                                 Traceback (most recent call last)",
            "\u001b[0;32m<ipython-input-1-84a73d206b3c>\u001b[0m in \u001b[0;36m<module>\u001b[0;34m()\u001b[0m\n\u001b[0;32m----> 1\u001b[0;31m \u001b[0mirisData\u001b[0m \u001b[0;34m=\u001b[0m \u001b[0mload_iris\u001b[0m\u001b[0;34m(\u001b[0m\u001b[0;34m)\u001b[0m\u001b[0;34m\u001b[0m\u001b[0;34m\u001b[0m\u001b[0m\n\u001b[0m\u001b[1;32m      2\u001b[0m \u001b[0mirisData\u001b[0m \u001b[0;34m=\u001b[0m \u001b[0mirisData\u001b[0m\u001b[0;34m.\u001b[0m\u001b[0mdata\u001b[0m\u001b[0;34m\u001b[0m\u001b[0;34m\u001b[0m\u001b[0m\n\u001b[1;32m      3\u001b[0m \u001b[0;34m\u001b[0m\u001b[0m\n\u001b[1;32m      4\u001b[0m \u001b[0mirisData\u001b[0m \u001b[0;34m=\u001b[0m \u001b[0mpd\u001b[0m\u001b[0;34m.\u001b[0m\u001b[0mDataFrame\u001b[0m\u001b[0;34m(\u001b[0m\u001b[0mirisData\u001b[0m\u001b[0;34m)\u001b[0m\u001b[0;34m\u001b[0m\u001b[0;34m\u001b[0m\u001b[0m\n\u001b[1;32m      5\u001b[0m \u001b[0;34m\u001b[0m\u001b[0m\n",
            "\u001b[0;31mNameError\u001b[0m: name 'load_iris' is not defined"
          ]
        }
      ],
      "source": [
        "irisData = load_iris()\n",
        "irisData = irisData.data\n",
        "\n",
        "irisData = pd.DataFrame(irisData)\n",
        "\n",
        "columns = ['SepalLengthCm', 'SepalWidthCm', 'PetalLengthCm' , 'PetalWidthCm']\n",
        "irisData.columns = columns\n",
        "irisData"
      ]
    },
    {
      "cell_type": "code",
      "execution_count": null,
      "id": "b519f52c",
      "metadata": {
        "id": "b519f52c"
      },
      "outputs": [],
      "source": [
        "x = irisData.iloc[:, [0,1,2,3]].values\n",
        "\n",
        "x_train, x_test, y_train, y_test = train_test_split(x, x, test_size=0.3, random_state=0)"
      ]
    },
    {
      "cell_type": "code",
      "execution_count": null,
      "id": "8850f548",
      "metadata": {
        "id": "8850f548"
      },
      "outputs": [],
      "source": [
        "from sklearn.cluster import KMeans\n",
        "kMeans = KMeans(n_clusters=3).fit(x)\n"
      ]
    },
    {
      "cell_type": "code",
      "source": [
        "outputClusters = kMeans.predict(x)\n",
        "print(outputClusters)"
      ],
      "metadata": {
        "colab": {
          "base_uri": "https://localhost:8080/"
        },
        "id": "giqWRAxjlSZ3",
        "outputId": "b640e1b0-265a-4eca-d2ae-8dad89d3d22b"
      },
      "id": "giqWRAxjlSZ3",
      "execution_count": null,
      "outputs": [
        {
          "output_type": "stream",
          "name": "stdout",
          "text": [
            "[1 1 1 1 1 1 1 1 1 1 1 1 1 1 1 1 1 1 1 1 1 1 1 1 1 1 1 1 1 1 1 1 1 1 1 1 1\n",
            " 1 1 1 1 1 1 1 1 1 1 1 1 1 0 0 2 0 0 0 0 0 0 0 0 0 0 0 0 0 0 0 0 0 0 0 0 0\n",
            " 0 0 0 2 0 0 0 0 0 0 0 0 0 0 0 0 0 0 0 0 0 0 0 0 0 0 2 0 2 2 2 2 0 2 2 2 2\n",
            " 2 2 0 0 2 2 2 2 0 2 0 2 0 2 2 0 0 2 2 2 2 2 0 2 2 2 2 0 2 2 2 0 2 2 2 0 2\n",
            " 2 0]\n"
          ]
        }
      ]
    },
    {
      "cell_type": "code",
      "source": [
        "# Filtering x instances which were falled under ith cluster\n",
        "print(x[outputClusters == 2])\n",
        "print(len(x[outputClusters == 2]))"
      ],
      "metadata": {
        "colab": {
          "base_uri": "https://localhost:8080/"
        },
        "id": "N2YgynBsmjIR",
        "outputId": "577fe757-b06e-4503-de9f-4d40bdd499f9"
      },
      "id": "N2YgynBsmjIR",
      "execution_count": null,
      "outputs": [
        {
          "output_type": "stream",
          "name": "stdout",
          "text": [
            "[[6.9 3.1 4.9 1.5]\n",
            " [6.7 3.  5.  1.7]\n",
            " [6.3 3.3 6.  2.5]\n",
            " [7.1 3.  5.9 2.1]\n",
            " [6.3 2.9 5.6 1.8]\n",
            " [6.5 3.  5.8 2.2]\n",
            " [7.6 3.  6.6 2.1]\n",
            " [7.3 2.9 6.3 1.8]\n",
            " [6.7 2.5 5.8 1.8]\n",
            " [7.2 3.6 6.1 2.5]\n",
            " [6.5 3.2 5.1 2. ]\n",
            " [6.4 2.7 5.3 1.9]\n",
            " [6.8 3.  5.5 2.1]\n",
            " [6.4 3.2 5.3 2.3]\n",
            " [6.5 3.  5.5 1.8]\n",
            " [7.7 3.8 6.7 2.2]\n",
            " [7.7 2.6 6.9 2.3]\n",
            " [6.9 3.2 5.7 2.3]\n",
            " [7.7 2.8 6.7 2. ]\n",
            " [6.7 3.3 5.7 2.1]\n",
            " [7.2 3.2 6.  1.8]\n",
            " [6.4 2.8 5.6 2.1]\n",
            " [7.2 3.  5.8 1.6]\n",
            " [7.4 2.8 6.1 1.9]\n",
            " [7.9 3.8 6.4 2. ]\n",
            " [6.4 2.8 5.6 2.2]\n",
            " [6.1 2.6 5.6 1.4]\n",
            " [7.7 3.  6.1 2.3]\n",
            " [6.3 3.4 5.6 2.4]\n",
            " [6.4 3.1 5.5 1.8]\n",
            " [6.9 3.1 5.4 2.1]\n",
            " [6.7 3.1 5.6 2.4]\n",
            " [6.9 3.1 5.1 2.3]\n",
            " [6.8 3.2 5.9 2.3]\n",
            " [6.7 3.3 5.7 2.5]\n",
            " [6.7 3.  5.2 2.3]\n",
            " [6.5 3.  5.2 2. ]\n",
            " [6.2 3.4 5.4 2.3]]\n",
            "38\n"
          ]
        }
      ]
    },
    {
      "cell_type": "code",
      "source": [
        "outputClustersForTest = kMeans.predict(x_test)\n",
        "print(outputClustersForTest)"
      ],
      "metadata": {
        "colab": {
          "base_uri": "https://localhost:8080/"
        },
        "id": "EsXMMyfDlPJY",
        "outputId": "e788263f-afc6-4d44-87dd-a49ede22fc5f"
      },
      "id": "EsXMMyfDlPJY",
      "execution_count": null,
      "outputs": [
        {
          "output_type": "stream",
          "name": "stdout",
          "text": [
            "[0 0 1 2 1 2 1 0 0 0 2 0 0 0 0 1 0 0 1 1 0 0 1 1 0 1 1 0 0 1 2 0 1 0 2 0 1\n",
            " 0 0 0 2 1 2 1 1]\n"
          ]
        }
      ]
    },
    {
      "cell_type": "code",
      "execution_count": null,
      "id": "9efd9358",
      "metadata": {
        "id": "9efd9358",
        "outputId": "861cf5b2-1735-4569-dfc0-0b76866db661",
        "colab": {
          "base_uri": "https://localhost:8080/"
        }
      },
      "outputs": [
        {
          "output_type": "stream",
          "name": "stdout",
          "text": [
            "[[5.8 2.8 5.1 2.4]\n",
            " [6.  2.2 4.  1. ]\n",
            " [6.7 3.1 4.7 1.5]\n",
            " [6.8 2.8 4.8 1.4]\n",
            " [6.1 2.8 4.  1.3]\n",
            " [6.4 3.2 4.5 1.5]\n",
            " [6.1 2.8 4.7 1.2]\n",
            " [6.5 2.8 4.6 1.5]\n",
            " [6.1 2.9 4.7 1.4]\n",
            " [6.  2.9 4.5 1.5]\n",
            " [5.5 2.6 4.4 1.2]\n",
            " [5.6 2.8 4.9 2. ]\n",
            " [5.6 3.  4.5 1.5]\n",
            " [6.2 2.8 4.8 1.8]\n",
            " [6.2 2.9 4.3 1.3]\n",
            " [5.  2.3 3.3 1. ]\n",
            " [5.4 3.  4.5 1.5]\n",
            " [6.1 3.  4.9 1.8]\n",
            " [5.2 2.7 3.9 1.4]\n",
            " [6.  2.7 5.1 1.6]\n",
            " [5.9 3.  4.2 1.5]\n",
            " [5.8 2.6 4.  1.2]]\n"
          ]
        }
      ],
      "source": [
        "# Filtering x_test instances which were falled under ith cluster\n",
        "print(x_test[outputClustersForTest == 0])"
      ]
    },
    {
      "cell_type": "code",
      "execution_count": null,
      "id": "4d3ed4e9",
      "metadata": {
        "id": "4d3ed4e9",
        "outputId": "f55f46ab-43a4-43dd-c2b0-dc9a36f0ffb4",
        "colab": {
          "base_uri": "https://localhost:8080/",
          "height": 281
        }
      },
      "outputs": [
        {
          "output_type": "display_data",
          "data": {
            "text/plain": [
              "<Figure size 432x288 with 1 Axes>"
            ],
            "image/png": "[encoded data removed]"
          },
          "metadata": {
            "needs_background": "light"
          }
        }
      ],
      "source": [
        "mtp.scatter(x[outputClusters == 0, 0], x[outputClusters == 0, 1], s = 100, c = 'red', label = 'Cluster 0')\n",
        "mtp.scatter(x[outputClusters == 1, 0], x[outputClusters == 1, 1], s = 100, c = 'green', label = 'Cluster 1')\n",
        "mtp.scatter(x[outputClusters == 2, 0], x[outputClusters == 2, 1], s = 100, c = 'blue', label = 'Cluster 2')\n",
        "#mtp.scatter(x[outputClusters == 3, 0], x[outputClusters == 3, 1], s = 100, c = 'orange', label = 'Cluster 3')\n",
        "#mtp.scatter(x[outputClusters == 4, 0], x[outputClusters == 4, 1], s = 100, c = 'pink', label = 'Cluster 4')\n",
        "\n",
        "mtp.scatter(kMeans.cluster_centers_[:, 0], kMeans.cluster_centers_[:, 1], s = 50, c = 'black', label = 'Centroid')   \n",
        "mtp.title('Clusters of Iris data set')  \n",
        "mtp.legend()  \n",
        "mtp.show()"
      ]
    },
    {
      "cell_type": "code",
      "source": [
        "mtp.scatter(x_test[outputClustersForTest == 0, 0], x_test[outputClustersForTest == 0, 1], s = 100, c = 'red', label = 'Cluster 0')\n",
        "mtp.scatter(x_test[outputClustersForTest == 1, 0], x_test[outputClustersForTest == 1, 1], s = 100, c = 'green', label = 'Cluster 1')\n",
        "mtp.scatter(x_test[outputClustersForTest == 2, 0], x_test[outputClustersForTest == 2, 1], s = 100, c = 'blue', label = 'Cluster 2')\n",
        "#mtp.scatter(x_test[outputClustersForTest == 3, 0], x_test[outputClustersForTest == 3, 1], s = 100, c = 'orange', label = 'Cluster 3')\n",
        "#mtp.scatter(x_test[outputClustersForTest == 4, 0], x_test[outputClustersForTest == 4, 1], s = 100, c = 'pink', label = 'Cluster 4')\n",
        "\n",
        "mtp.scatter(kMeans.cluster_centers_[:, 0], kMeans.cluster_centers_[:, 1], s = 50, c = 'black', label = 'Centroid')   \n",
        "mtp.title('Clusters of Iris test data set')  \n",
        "mtp.legend()  \n",
        "mtp.show()"
      ],
      "metadata": {
        "colab": {
          "base_uri": "https://localhost:8080/",
          "height": 281
        },
        "id": "9WUy0izupGVv",
        "outputId": "77e36df5-a587-403c-c5ae-2a66eea5cef7"
      },
      "id": "9WUy0izupGVv",
      "execution_count": null,
      "outputs": [
        {
          "output_type": "display_data",
          "data": {
            "text/plain": [
              "<Figure size 432x288 with 1 Axes>"
            ],
            "image/png": "[encoded data removed]"
          },
          "metadata": {
            "needs_background": "light"
          }
        }
      ]
    },
    {
      "cell_type": "code",
      "execution_count": null,
      "id": "a1c8e3c5",
      "metadata": {
        "id": "a1c8e3c5"
      },
      "outputs": [],
      "source": [
        ""
      ]
    },
    {
      "cell_type": "code",
      "source": [
        "import numpy as np\n",
        "\n",
        "customTestData = np.array([[1.713,1.586,1.713,1.586], [0.180,1.786,1.713,1.586], [0.353,1.240,1.713,1.586], [0.940,1.566,1.713,1.586], [1.486,0.759,1.713,1.586], [1.266,1.106,1.713,1.586], [1.540,0.419,1.713,1.586], [0.459,1.799,1.713,1.586], [0.773,0.186,1.713,1.586]])\n",
        "customerOutputClassLables = kMeans.fit_predict(customTestData)\n",
        "print(customerOutputClassLables)"
      ],
      "metadata": {
        "colab": {
          "base_uri": "https://localhost:8080/"
        },
        "id": "B8sk1t06q-pZ",
        "outputId": "fadccaeb-9446-4661-cf2f-a0809b0c4121"
      },
      "id": "B8sk1t06q-pZ",
      "execution_count": null,
      "outputs": [
        {
          "output_type": "stream",
          "name": "stdout",
          "text": [
            "[1 2 2 1 0 1 0 2 0]\n"
          ]
        }
      ]
    },
    {
      "cell_type": "code",
      "source": [
        "mtp.scatter(customTestData[customerOutputClassLables == 0, 0], customTestData[customerOutputClassLables == 0, 1], s = 100, c = 'red', label = 'Cluster 0')\n",
        "mtp.scatter(customTestData[customerOutputClassLables == 1, 0], customTestData[customerOutputClassLables == 1, 1], s = 100, c = 'green', label = 'Cluster 1')\n",
        "mtp.scatter(customTestData[customerOutputClassLables == 2, 0], customTestData[customerOutputClassLables == 2, 1], s = 100, c = 'blue', label = 'Cluster 2')\n",
        "#mtp.scatter(customTestData[customerOutputClassLables == 3, 0], customTestData[customerOutputClassLables == 3, 1], s = 100, c = 'orange', label = 'Cluster 3')\n",
        "#mtp.scatter(customTestData[customerOutputClassLables == 4, 0], customTestData[customerOutputClassLables == 4, 1], s = 100, c = 'pink', label = 'Cluster 4')\n",
        "\n",
        "mtp.scatter(kMeans.cluster_centers_[:, 0], kMeans.cluster_centers_[:, 1], s = 50, c = 'black', label = 'Centroid')   \n",
        "mtp.title('Clusters of Iris test data set')  \n",
        "mtp.legend()  \n",
        "mtp.show() "
      ],
      "metadata": {
        "colab": {
          "base_uri": "https://localhost:8080/",
          "height": 281
        },
        "id": "xKZD2sURtj2K",
        "outputId": "59931efa-8d6a-4bc3-a29d-b613db0f15f4"
      },
      "id": "xKZD2sURtj2K",
      "execution_count": null,
      "outputs": [
        {
          "output_type": "display_data",
          "data": {
            "text/plain": [
              "<Figure size 432x288 with 1 Axes>"
            ],
            "image/png": "[encoded data removed]"
          },
          "metadata": {
            "needs_background": "light"
          }
        }
      ]
    }
  ],
  "metadata": {
    "kernelspec": {
      "display_name": "Python 3 (ipykernel)",
      "language": "python",
      "name": "python3"
    },
    "language_info": {
      "codemirror_mode": {
        "name": "ipython",
        "version": 3
      },
      "file_extension": ".py",
      "mimetype": "text/x-python",
      "name": "python",
      "nbconvert_exporter": "python",
      "pygments_lexer": "ipython3",
      "version": "3.9.7"
    },
    "colab": {
      "name": "kMeans.ipynb",
      "provenance": [],
      "collapsed_sections": [],
      "toc_visible": true,
      "include_colab_link": true
    }
  },
  "nbformat": 4,
  "nbformat_minor": 5
}